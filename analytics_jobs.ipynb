{
 "cells": [
  {
   "cell_type": "code",
   "execution_count": 1,
   "metadata": {},
   "outputs": [
    {
     "name": "stderr",
     "output_type": "stream",
     "text": [
      "Using Spark's default log4j profile: org/apache/spark/log4j-defaults.properties\n",
      "Setting default log level to \"WARN\".\n",
      "To adjust logging level use sc.setLogLevel(newLevel). For SparkR, use setLogLevel(newLevel).\n",
      "22/03/14 10:19:40 WARN NativeCodeLoader: Unable to load native-hadoop library for your platform... using builtin-java classes where applicable\n",
      "22/03/14 10:19:41 WARN Utils: Service 'SparkUI' could not bind on port 4040. Attempting port 4041.\n"
     ]
    }
   ],
   "source": [
    "from pyspark.context import SparkContext\n",
    "from pyspark.sql.functions import monotonically_increasing_id, sum, count\n",
    "from pyspark.sql.session import SparkSession\n",
    "from pyspark.sql.types import IntegerType\n",
    "import sys\n",
    "import pandas as pd\n",
    "import matplotlib.pyplot as plt\n",
    "import seaborn as sns\n",
    "import numpy as np\n",
    "from scipy.stats import chi2\n",
    "from scipy import stats\n",
    "import statsmodels\n",
    "\n",
    "sc = SparkContext.getOrCreate()\n",
    "spark = SparkSession.builder.appName('local').getOrCreate()"
   ]
  },
  {
   "cell_type": "code",
   "execution_count": 2,
   "metadata": {},
   "outputs": [],
   "source": [
    "gold_path = 'golden_layer'\n",
    "fig_path = 'visualization_layer'\n",
    "logs = spark.read.option(\"header\", True).csv( \"Staging/log_output.csv\")\n",
    "reviews = spark.read.option(\"header\", True).csv('Staging/movie_output.csv')\n",
    "purchases = spark.read.option(\"header\", True).csv('raw/user_purchase.csv')\n",
    "df2 = pd.read_csv('raw/user_purchase.csv')"
   ]
  },
  {
   "cell_type": "markdown",
   "metadata": {},
   "source": [
    "## Dim tables and Fact table"
   ]
  },
  {
   "cell_type": "markdown",
   "metadata": {},
   "source": [
    "#### dim_devices"
   ]
  },
  {
   "cell_type": "code",
   "execution_count": 3,
   "metadata": {},
   "outputs": [
    {
     "name": "stdout",
     "output_type": "stream",
     "text": [
      "+---------+-----------+\n",
      "|device_id|device_name|\n",
      "+---------+-----------+\n",
      "|        0|   Computer|\n",
      "|        1|     Mobile|\n",
      "|        2|     Tablet|\n",
      "+---------+-----------+\n",
      "\n"
     ]
    }
   ],
   "source": [
    "dim_device = logs[[\"device\"]].distinct()\n",
    "dim_device = dim_device.withColumn(\"device_id\", monotonically_increasing_id())\n",
    "dim_device = dim_device.withColumnRenamed(\"device\", \"device_name\")\n",
    "dim_device[[\"device_id\", \"device_name\"]].show(5)\n",
    "dim_device[[\"device_id\", \"device_name\"]].write.option(\"header\", True).mode('overwrite').csv(gold_path + \"/devices\")\n"
   ]
  },
  {
   "cell_type": "markdown",
   "metadata": {},
   "source": [
    "#### dim_os"
   ]
  },
  {
   "cell_type": "code",
   "execution_count": 4,
   "metadata": {},
   "outputs": [
    {
     "name": "stdout",
     "output_type": "stream",
     "text": [
      "+-----+-----------------+\n",
      "|os_id|          os_name|\n",
      "+-----+-----------------+\n",
      "|    0|Microsoft Windows|\n",
      "|    1|            Linux|\n",
      "|    2|        Apple iOS|\n",
      "|    3|      Apple MacOS|\n",
      "|    4|   Google Android|\n",
      "+-----+-----------------+\n",
      "\n"
     ]
    }
   ],
   "source": [
    "dim_os = logs[[\"os\"]].distinct()\n",
    "dim_os = dim_os.withColumn(\"os_id\", monotonically_increasing_id())\n",
    "dim_os = dim_os.withColumnRenamed(\"os\", \"os_name\")\n",
    "dim_os[[\"os_id\", \"os_name\"]].show(5)\n",
    "dim_os[[\"os_id\", \"os_name\"]].write.option(\"header\", True).mode('overwrite').csv(gold_path + \"/os\")"
   ]
  },
  {
   "cell_type": "markdown",
   "metadata": {},
   "source": [
    "#### dim_date"
   ]
  },
  {
   "cell_type": "code",
   "execution_count": 5,
   "metadata": {},
   "outputs": [
    {
     "name": "stdout",
     "output_type": "stream",
     "text": [
      "+-------+------------+\n",
      "|date_id|logDate_name|\n",
      "+-------+------------+\n",
      "|      0|  05-01-2021|\n",
      "|      1|  05-04-2021|\n",
      "|      2|  04-06-2021|\n",
      "|      3|  08-10-2021|\n",
      "|      4|  03-08-2021|\n",
      "+-------+------------+\n",
      "only showing top 5 rows\n",
      "\n"
     ]
    }
   ],
   "source": [
    "\n",
    "dim_date = logs[[\"logDate\"]].distinct()\n",
    "dim_date = dim_date.withColumn(\"date_id\", monotonically_increasing_id())\n",
    "dim_date = dim_date.withColumnRenamed(\"logDate\", \"logDate_name\")\n",
    "dim_date[[\"date_id\", \"logDate_name\"]].show(5)\n",
    "dim_date[[\"date_id\", \"logDate_name\"]].write.option(\"header\", True).mode('overwrite').csv(gold_path + \"/date\")\n"
   ]
  },
  {
   "cell_type": "markdown",
   "metadata": {},
   "source": [
    "#### dim_location"
   ]
  },
  {
   "cell_type": "code",
   "execution_count": 6,
   "metadata": {},
   "outputs": [
    {
     "name": "stdout",
     "output_type": "stream",
     "text": [
      "+-----------+-------------+\n",
      "|location_id|location_name|\n",
      "+-----------+-------------+\n",
      "|          0|         Utah|\n",
      "|          1|       Hawaii|\n",
      "|          2|    Minnesota|\n",
      "|          3|         Ohio|\n",
      "|          4|       Oregon|\n",
      "+-----------+-------------+\n",
      "only showing top 5 rows\n",
      "\n"
     ]
    }
   ],
   "source": [
    "dim_location = logs[[\"location\"]].distinct()\n",
    "dim_location = dim_location.withColumn(\"location_id\", monotonically_increasing_id())\n",
    "dim_location = dim_location.withColumnRenamed(\"location\", \"location_name\")\n",
    "dim_location[[\"location_id\", \"location_name\"]].show(5)\n",
    "dim_location[[\"location_id\", \"location_name\"]].write.option(\"header\", True).mode('overwrite').csv(gold_path + \"/location\")"
   ]
  },
  {
   "cell_type": "markdown",
   "metadata": {},
   "source": [
    "#### dim_browser"
   ]
  },
  {
   "cell_type": "code",
   "execution_count": 7,
   "metadata": {},
   "outputs": [
    {
     "name": "stdout",
     "output_type": "stream",
     "text": [
      "+----------+--------------+\n",
      "|browser_id|  browser_name|\n",
      "+----------+--------------+\n",
      "|         0|Microsoft Edge|\n",
      "|         1|       Firefox|\n",
      "|         2|        Safari|\n",
      "|         3| Google Chrome|\n",
      "+----------+--------------+\n",
      "\n"
     ]
    }
   ],
   "source": [
    "dim_browser = logs[[\"browser\"]].distinct()\n",
    "dim_browser = dim_browser.withColumn(\"browser_id\", monotonically_increasing_id())\n",
    "dim_browser = dim_browser.withColumnRenamed(\"browser\", \"browser_name\")\n",
    "dim_browser[[\"browser_id\", \"browser_name\"]].show(5)\n",
    "dim_browser[[\"browser_id\", \"browser_name\"]].write.option(\"header\", True).mode('overwrite').csv(gold_path + \"/browser\")"
   ]
  },
  {
   "cell_type": "code",
   "execution_count": 8,
   "metadata": {},
   "outputs": [
    {
     "name": "stdout",
     "output_type": "stream",
     "text": [
      "-RECORD 0-----------------------\n",
      " id_review       | 1            \n",
      " cid             | 13756        \n",
      " positive_review | 0            \n",
      " ts              | 2022-03-10   \n",
      " logDate         | 04-25-2021   \n",
      " phoneNumber     | 821-540-5777 \n",
      " device          | Mobile       \n",
      " location        | Kansas       \n",
      " os              | Apple iOS    \n",
      " ipAddress       | 9.200.232.57 \n",
      " browser         | Safari       \n",
      "only showing top 1 row\n",
      "\n"
     ]
    }
   ],
   "source": [
    "sub_review = reviews.join(logs, 'id_review')\n",
    "sub_review.show(1, False, True)"
   ]
  },
  {
   "cell_type": "code",
   "execution_count": 9,
   "metadata": {},
   "outputs": [
    {
     "name": "stdout",
     "output_type": "stream",
     "text": [
      "-RECORD 0-----------------------\n",
      " id_review       | 1            \n",
      " cid             | 13756        \n",
      " positive_review | 0            \n",
      " ts              | 2022-03-10   \n",
      " logDate         | 04-25-2021   \n",
      " phoneNumber     | 821-540-5777 \n",
      " device          | Mobile       \n",
      " location        | Kansas       \n",
      " os              | Apple iOS    \n",
      " ipAddress       | 9.200.232.57 \n",
      " browser         | Safari       \n",
      " location_name   | Kansas       \n",
      " location_id     | 27           \n",
      " browser_name    | Safari       \n",
      " browser_id      | 2            \n",
      " device_name     | Mobile       \n",
      " device_id       | 1            \n",
      " logDate_name    | 04-25-2021   \n",
      " date_id         | 135          \n",
      " os_name         | Apple iOS    \n",
      " os_id           | 2            \n",
      "only showing top 1 row\n",
      "\n"
     ]
    }
   ],
   "source": [
    "review = reviews.join(logs, 'id_review')\n",
    "review = review.join(dim_location, review.location == dim_location.location_name)\n",
    "review = review.join(dim_browser, review.browser == dim_browser.browser_name)\n",
    "review = review.join(dim_device, review.device == dim_device.device_name)\n",
    "review = review.join(dim_date, review.logDate == dim_date.logDate_name)\n",
    "review = review.join(dim_os, review.os == dim_os.os_name)\n",
    "review.show(1, False, True)"
   ]
  },
  {
   "cell_type": "code",
   "execution_count": 10,
   "metadata": {},
   "outputs": [
    {
     "name": "stderr",
     "output_type": "stream",
     "text": [
      "                                                                                \r"
     ]
    }
   ],
   "source": [
    "review = review.withColumn(\"positive_review\", review[\"positive_review\"].cast(IntegerType()))\n",
    "review = review.select(\n",
    "        \"id_review\",\n",
    "        \"cid\",\n",
    "        \"positive_review\",\n",
    "        \"location_id\",\n",
    "        \"browser_id\",\n",
    "        \"device_id\",\n",
    "        \"date_id\",\n",
    "        \"os_id\",\n",
    "        'ts'\n",
    "        )\n",
    "review.write.option(\"header\", True).mode('overwrite').csv(gold_path + \"/review\")"
   ]
  },
  {
   "cell_type": "code",
   "execution_count": 11,
   "metadata": {},
   "outputs": [
    {
     "name": "stdout",
     "output_type": "stream",
     "text": [
      "+---------+-----+---------------+-----------+----------+---------+-------+-----+----------+\n",
      "|id_review|  cid|positive_review|location_id|browser_id|device_id|date_id|os_id|        ts|\n",
      "+---------+-----+---------------+-----------+----------+---------+-------+-----+----------+\n",
      "|        1|13756|              0|         27|         2|        1|    135|    2|2022-03-10|\n",
      "|        2|15738|              0|          4|         3|        2|    161|    4|2022-03-10|\n",
      "|        3|15727|              0|          2|         2|        2|    196|    2|2022-03-10|\n",
      "|        4|17954|              0|          5|         2|        2|    162|    3|2022-03-10|\n",
      "|        5|16579|              1|         37|         1|        2|     84|    1|2022-03-10|\n",
      "+---------+-----+---------------+-----------+----------+---------+-------+-----+----------+\n",
      "only showing top 5 rows\n",
      "\n"
     ]
    }
   ],
   "source": [
    "review.show(5)"
   ]
  },
  {
   "cell_type": "code",
   "execution_count": 12,
   "metadata": {},
   "outputs": [],
   "source": [
    "# purchases = purchases.filter(purchases.Quantity >= 0)\n",
    "purchases = purchases.withColumn(\"UnitPrice\", purchases[\"UnitPrice\"].cast(IntegerType()))\\\n",
    "            .withColumn(\"Quantity\", purchases[\"Quantity\"].cast(IntegerType())) \n",
    "purchases = purchases.withColumn(\"MoneySpent\", purchases.Quantity * purchases.UnitPrice)\n"
   ]
  },
  {
   "cell_type": "code",
   "execution_count": 13,
   "metadata": {},
   "outputs": [
    {
     "name": "stderr",
     "output_type": "stream",
     "text": [
      "[Stage 86:=====>                                                  (1 + 10) / 11]\r"
     ]
    },
    {
     "name": "stdout",
     "output_type": "stream",
     "text": [
      "+----------+---------------+\n",
      "|CustomerID|sum(MoneySpent)|\n",
      "+----------+---------------+\n",
      "|     16250|            248|\n",
      "|     15574|            528|\n",
      "|     15555|           2737|\n",
      "|     15271|           1712|\n",
      "|     17757|           3544|\n",
      "+----------+---------------+\n",
      "only showing top 5 rows\n",
      "\n"
     ]
    },
    {
     "name": "stderr",
     "output_type": "stream",
     "text": [
      "                                                                                \r"
     ]
    }
   ],
   "source": [
    "customer = purchases.groupBy(\"CustomerID\").sum(\"MoneySpent\")\n",
    "customer.show(5)"
   ]
  },
  {
   "cell_type": "code",
   "execution_count": 14,
   "metadata": {},
   "outputs": [
    {
     "name": "stdout",
     "output_type": "stream",
     "text": [
      "+-----+--------------------+----------------------+\n",
      "|  cid|sum(positive_review)|count(positive_review)|\n",
      "+-----+--------------------+----------------------+\n",
      "|16250|                  25|                    97|\n",
      "|15555|                  49|                   121|\n",
      "|15574|                  58|                   136|\n",
      "|15271|                  43|                    99|\n",
      "|17757|                  36|                   103|\n",
      "+-----+--------------------+----------------------+\n",
      "only showing top 5 rows\n",
      "\n"
     ]
    }
   ],
   "source": [
    "temp_table = review.groupBy(\"cid\").agg(sum(\"positive_review\"), count(\"positive_review\"))\n",
    "temp_table.show(5)\n"
   ]
  },
  {
   "cell_type": "code",
   "execution_count": 15,
   "metadata": {},
   "outputs": [
    {
     "name": "stderr",
     "output_type": "stream",
     "text": [
      "                                                                                \r"
     ]
    },
    {
     "name": "stdout",
     "output_type": "stream",
     "text": [
      "+------------+-----+---------------+-----------+\n",
      "|amount_spent|  cid|num_pos_reviews|num_reviews|\n",
      "+------------+-----+---------------+-----------+\n",
      "|         248|16250|             25|         97|\n",
      "|        2737|15555|             49|        121|\n",
      "|         528|15574|             58|        136|\n",
      "|        1712|15271|             43|         99|\n",
      "|        3544|17757|             36|        103|\n",
      "+------------+-----+---------------+-----------+\n",
      "only showing top 5 rows\n",
      "\n"
     ]
    },
    {
     "name": "stderr",
     "output_type": "stream",
     "text": [
      "                                                                                \r"
     ]
    },
    {
     "name": "stdout",
     "output_type": "stream",
     "text": [
      "908\n"
     ]
    },
    {
     "name": "stderr",
     "output_type": "stream",
     "text": [
      "                                                                                \r"
     ]
    }
   ],
   "source": [
    "customer = customer.join(temp_table, customer.CustomerID == temp_table.cid).drop(customer.CustomerID)\n",
    "customer = customer.withColumnRenamed(\"sum(positive_review)\", \"num_pos_reviews\")\\\n",
    "    .withColumnRenamed(\"count(positive_review)\", \"num_reviews\")\\\n",
    "    .withColumnRenamed(\"sum(MoneySpent)\", \"amount_spent\")\n",
    "\n",
    "customer.show(5)\n",
    "print(customer.count())\n",
    "customer.write.option(\"header\", True).mode('overwrite').csv(gold_path + \"/customer\")"
   ]
  },
  {
   "cell_type": "code",
   "execution_count": 16,
   "metadata": {},
   "outputs": [
    {
     "name": "stderr",
     "output_type": "stream",
     "text": [
      "[Stage 213:>                                                        (0 + 2) / 2]\r"
     ]
    },
    {
     "name": "stdout",
     "output_type": "stream",
     "text": [
      "+-----+------------+---------------+-----------+---------+---------------+-----------+----------+---------+-------+-----+----------+\n",
      "|  cid|amount_spent|num_pos_reviews|num_reviews|id_review|positive_review|location_id|browser_id|device_id|date_id|os_id|        ts|\n",
      "+-----+------------+---------------+-----------+---------+---------------+-----------+----------+---------+-------+-----+----------+\n",
      "|12347|        3012|             44|        131|      938|              0|         27|         2|        1|    270|    3|2022-03-10|\n",
      "|12347|        3012|             44|        131|      972|              0|         14|         2|        0|    121|    3|2022-03-10|\n",
      "|12347|        3012|             44|        131|     2612|              0|         11|         0|        1|     22|    0|2022-03-10|\n",
      "|12347|        3012|             44|        131|     2719|              0|         32|         3|        1|    288|    4|2022-03-10|\n",
      "|12347|        3012|             44|        131|     4144|              0|         14|         1|        1|    207|    1|2022-03-10|\n",
      "|12347|        3012|             44|        131|     4345|              1|         24|         2|        1|    259|    2|2022-03-10|\n",
      "|12347|        3012|             44|        131|     4395|              0|         42|         0|        2|     29|    0|2022-03-10|\n",
      "|12347|        3012|             44|        131|     4646|              1|         31|         0|        2|    128|    0|2022-03-10|\n",
      "|12347|        3012|             44|        131|     8215|              1|          0|         2|        1|    123|    3|2022-03-10|\n",
      "|12347|        3012|             44|        131|     9676|              1|         12|         3|        1|    129|    4|2022-03-10|\n",
      "+-----+------------+---------------+-----------+---------+---------------+-----------+----------+---------+-------+-----+----------+\n",
      "only showing top 10 rows\n",
      "\n"
     ]
    },
    {
     "name": "stderr",
     "output_type": "stream",
     "text": [
      "                                                                                \r"
     ]
    }
   ],
   "source": [
    "main = customer.join(review, 'cid')\n",
    "main.show(10)"
   ]
  },
  {
   "cell_type": "code",
   "execution_count": 17,
   "metadata": {},
   "outputs": [
    {
     "name": "stderr",
     "output_type": "stream",
     "text": [
      "                                                                                \r"
     ]
    },
    {
     "name": "stdout",
     "output_type": "stream",
     "text": [
      "+-----+------------+---------------+-----------+---------+---------------+----------+----------+------------+--------+-------------+-----------------+------------+--------------+\n",
      "|  cid|amount_spent|num_pos_reviews|num_reviews|id_review|positive_review|        ts|   logDate| phoneNumber|  device|     location|               os|   ipAddress|       browser|\n",
      "+-----+------------+---------------+-----------+---------+---------------+----------+----------+------------+--------+-------------+-----------------+------------+--------------+\n",
      "|12347|        3012|             44|        131|      938|              0|2022-03-10|07-10-2021|773-490-0967|  Mobile|       Kansas|      Apple MacOS|9.200.232.57|        Safari|\n",
      "|12347|        3012|             44|        131|      972|              0|2022-03-10|06-16-2021|485-654-6963|Computer|     Oklahoma|      Apple MacOS|9.200.232.57|        Safari|\n",
      "|12347|        3012|             44|        131|     2612|              0|2022-03-10|01-20-2021|200-303-6152|  Mobile|       Nevada|Microsoft Windows|9.200.232.57|Microsoft Edge|\n",
      "|12347|        3012|             44|        131|     2719|              0|2022-03-10|05-23-2021|127-879-7425|  Mobile|     Lousiana|   Google Android|9.200.232.57| Google Chrome|\n",
      "|12347|        3012|             44|        131|     4144|              0|2022-03-10|08-13-2021|942-645-2732|  Mobile|     Oklahoma|            Linux|9.200.232.57|       Firefox|\n",
      "|12347|        3012|             44|        131|     4345|              1|2022-03-10|10-03-2021|251-060-2189|  Mobile|     Virginia|        Apple iOS|9.200.232.57|        Safari|\n",
      "|12347|        3012|             44|        131|     4395|              0|2022-03-10|07-16-2021|486-266-8885|  Tablet|Massachussets|Microsoft Windows|9.200.232.57|Microsoft Edge|\n",
      "|12347|        3012|             44|        131|     4646|              1|2022-03-10|06-17-2021|352-562-3858|  Tablet|      Arizona|Microsoft Windows|9.200.232.57|Microsoft Edge|\n",
      "|12347|        3012|             44|        131|     8215|              1|2022-03-10|05-18-2021|415-346-2631|  Mobile|         Utah|      Apple MacOS|9.200.232.57|        Safari|\n",
      "|12347|        3012|             44|        131|     9676|              1|2022-03-10|07-07-2021|804-590-0931|  Mobile|   Washington|   Google Android|9.200.232.57| Google Chrome|\n",
      "+-----+------------+---------------+-----------+---------+---------------+----------+----------+------------+--------+-------------+-----------------+------------+--------------+\n",
      "only showing top 10 rows\n",
      "\n"
     ]
    },
    {
     "name": "stderr",
     "output_type": "stream",
     "text": [
      "                                                                                \r"
     ]
    },
    {
     "data": {
      "text/plain": [
       "99907"
      ]
     },
     "execution_count": 17,
     "metadata": {},
     "output_type": "execute_result"
    }
   ],
   "source": [
    "master = customer.join(sub_review, 'cid')\n",
    "master.show(10)\n",
    "master.count()"
   ]
  },
  {
   "cell_type": "markdown",
   "metadata": {},
   "source": [
    "## Answer main questions"
   ]
  },
  {
   "cell_type": "code",
   "execution_count": 18,
   "metadata": {},
   "outputs": [
    {
     "name": "stderr",
     "output_type": "stream",
     "text": [
      "                                                                                \r"
     ]
    },
    {
     "data": {
      "text/html": [
       "<div>\n",
       "<style scoped>\n",
       "    .dataframe tbody tr th:only-of-type {\n",
       "        vertical-align: middle;\n",
       "    }\n",
       "\n",
       "    .dataframe tbody tr th {\n",
       "        vertical-align: top;\n",
       "    }\n",
       "\n",
       "    .dataframe thead th {\n",
       "        text-align: right;\n",
       "    }\n",
       "</style>\n",
       "<table border=\"1\" class=\"dataframe\">\n",
       "  <thead>\n",
       "    <tr style=\"text-align: right;\">\n",
       "      <th></th>\n",
       "      <th>cid</th>\n",
       "      <th>amount_spent</th>\n",
       "      <th>num_pos_reviews</th>\n",
       "      <th>num_reviews</th>\n",
       "      <th>id_review</th>\n",
       "      <th>positive_review</th>\n",
       "      <th>ts</th>\n",
       "      <th>logDate</th>\n",
       "      <th>phoneNumber</th>\n",
       "      <th>device</th>\n",
       "      <th>location</th>\n",
       "      <th>os</th>\n",
       "      <th>ipAddress</th>\n",
       "      <th>browser</th>\n",
       "    </tr>\n",
       "  </thead>\n",
       "  <tbody>\n",
       "    <tr>\n",
       "      <th>0</th>\n",
       "      <td>12347</td>\n",
       "      <td>3012</td>\n",
       "      <td>44</td>\n",
       "      <td>131</td>\n",
       "      <td>938</td>\n",
       "      <td>0</td>\n",
       "      <td>2022-03-10</td>\n",
       "      <td>07-10-2021</td>\n",
       "      <td>773-490-0967</td>\n",
       "      <td>Mobile</td>\n",
       "      <td>Kansas</td>\n",
       "      <td>Apple MacOS</td>\n",
       "      <td>9.200.232.57</td>\n",
       "      <td>Safari</td>\n",
       "    </tr>\n",
       "    <tr>\n",
       "      <th>1</th>\n",
       "      <td>12347</td>\n",
       "      <td>3012</td>\n",
       "      <td>44</td>\n",
       "      <td>131</td>\n",
       "      <td>972</td>\n",
       "      <td>0</td>\n",
       "      <td>2022-03-10</td>\n",
       "      <td>06-16-2021</td>\n",
       "      <td>485-654-6963</td>\n",
       "      <td>Computer</td>\n",
       "      <td>Oklahoma</td>\n",
       "      <td>Apple MacOS</td>\n",
       "      <td>9.200.232.57</td>\n",
       "      <td>Safari</td>\n",
       "    </tr>\n",
       "    <tr>\n",
       "      <th>2</th>\n",
       "      <td>12347</td>\n",
       "      <td>3012</td>\n",
       "      <td>44</td>\n",
       "      <td>131</td>\n",
       "      <td>2612</td>\n",
       "      <td>0</td>\n",
       "      <td>2022-03-10</td>\n",
       "      <td>01-20-2021</td>\n",
       "      <td>200-303-6152</td>\n",
       "      <td>Mobile</td>\n",
       "      <td>Nevada</td>\n",
       "      <td>Microsoft Windows</td>\n",
       "      <td>9.200.232.57</td>\n",
       "      <td>Microsoft Edge</td>\n",
       "    </tr>\n",
       "    <tr>\n",
       "      <th>3</th>\n",
       "      <td>12347</td>\n",
       "      <td>3012</td>\n",
       "      <td>44</td>\n",
       "      <td>131</td>\n",
       "      <td>2719</td>\n",
       "      <td>0</td>\n",
       "      <td>2022-03-10</td>\n",
       "      <td>05-23-2021</td>\n",
       "      <td>127-879-7425</td>\n",
       "      <td>Mobile</td>\n",
       "      <td>Lousiana</td>\n",
       "      <td>Google Android</td>\n",
       "      <td>9.200.232.57</td>\n",
       "      <td>Google Chrome</td>\n",
       "    </tr>\n",
       "    <tr>\n",
       "      <th>4</th>\n",
       "      <td>12347</td>\n",
       "      <td>3012</td>\n",
       "      <td>44</td>\n",
       "      <td>131</td>\n",
       "      <td>4144</td>\n",
       "      <td>0</td>\n",
       "      <td>2022-03-10</td>\n",
       "      <td>08-13-2021</td>\n",
       "      <td>942-645-2732</td>\n",
       "      <td>Mobile</td>\n",
       "      <td>Oklahoma</td>\n",
       "      <td>Linux</td>\n",
       "      <td>9.200.232.57</td>\n",
       "      <td>Firefox</td>\n",
       "    </tr>\n",
       "    <tr>\n",
       "      <th>...</th>\n",
       "      <td>...</td>\n",
       "      <td>...</td>\n",
       "      <td>...</td>\n",
       "      <td>...</td>\n",
       "      <td>...</td>\n",
       "      <td>...</td>\n",
       "      <td>...</td>\n",
       "      <td>...</td>\n",
       "      <td>...</td>\n",
       "      <td>...</td>\n",
       "      <td>...</td>\n",
       "      <td>...</td>\n",
       "      <td>...</td>\n",
       "      <td>...</td>\n",
       "    </tr>\n",
       "    <tr>\n",
       "      <th>99902</th>\n",
       "      <td>18269</td>\n",
       "      <td>94</td>\n",
       "      <td>37</td>\n",
       "      <td>113</td>\n",
       "      <td>95573</td>\n",
       "      <td>0</td>\n",
       "      <td>2022-03-10</td>\n",
       "      <td>06-13-2021</td>\n",
       "      <td>146-344-1605</td>\n",
       "      <td>Tablet</td>\n",
       "      <td>Missouri</td>\n",
       "      <td>Microsoft Windows</td>\n",
       "      <td>9.200.232.57</td>\n",
       "      <td>Microsoft Edge</td>\n",
       "    </tr>\n",
       "    <tr>\n",
       "      <th>99903</th>\n",
       "      <td>18269</td>\n",
       "      <td>94</td>\n",
       "      <td>37</td>\n",
       "      <td>113</td>\n",
       "      <td>96223</td>\n",
       "      <td>0</td>\n",
       "      <td>2022-03-10</td>\n",
       "      <td>02-20-2021</td>\n",
       "      <td>984-418-7929</td>\n",
       "      <td>Tablet</td>\n",
       "      <td>New Jersey</td>\n",
       "      <td>Google Android</td>\n",
       "      <td>9.200.232.57</td>\n",
       "      <td>Google Chrome</td>\n",
       "    </tr>\n",
       "    <tr>\n",
       "      <th>99904</th>\n",
       "      <td>18269</td>\n",
       "      <td>94</td>\n",
       "      <td>37</td>\n",
       "      <td>113</td>\n",
       "      <td>96624</td>\n",
       "      <td>1</td>\n",
       "      <td>2022-03-10</td>\n",
       "      <td>07-05-2021</td>\n",
       "      <td>245-491-4022</td>\n",
       "      <td>Computer</td>\n",
       "      <td>California</td>\n",
       "      <td>Apple iOS</td>\n",
       "      <td>9.200.232.57</td>\n",
       "      <td>Safari</td>\n",
       "    </tr>\n",
       "    <tr>\n",
       "      <th>99905</th>\n",
       "      <td>18269</td>\n",
       "      <td>94</td>\n",
       "      <td>37</td>\n",
       "      <td>113</td>\n",
       "      <td>96976</td>\n",
       "      <td>0</td>\n",
       "      <td>2022-03-10</td>\n",
       "      <td>10-23-2021</td>\n",
       "      <td>554-502-8104</td>\n",
       "      <td>Mobile</td>\n",
       "      <td>Washington</td>\n",
       "      <td>Apple iOS</td>\n",
       "      <td>9.200.232.57</td>\n",
       "      <td>Safari</td>\n",
       "    </tr>\n",
       "    <tr>\n",
       "      <th>99906</th>\n",
       "      <td>18269</td>\n",
       "      <td>94</td>\n",
       "      <td>37</td>\n",
       "      <td>113</td>\n",
       "      <td>99890</td>\n",
       "      <td>0</td>\n",
       "      <td>2022-03-10</td>\n",
       "      <td>05-09-2021</td>\n",
       "      <td>433-408-4245</td>\n",
       "      <td>Computer</td>\n",
       "      <td>Ohio</td>\n",
       "      <td>Google Android</td>\n",
       "      <td>9.200.232.57</td>\n",
       "      <td>Google Chrome</td>\n",
       "    </tr>\n",
       "  </tbody>\n",
       "</table>\n",
       "<p>99907 rows × 14 columns</p>\n",
       "</div>"
      ],
      "text/plain": [
       "         cid  amount_spent  num_pos_reviews  num_reviews id_review  \\\n",
       "0      12347          3012               44          131       938   \n",
       "1      12347          3012               44          131       972   \n",
       "2      12347          3012               44          131      2612   \n",
       "3      12347          3012               44          131      2719   \n",
       "4      12347          3012               44          131      4144   \n",
       "...      ...           ...              ...          ...       ...   \n",
       "99902  18269            94               37          113     95573   \n",
       "99903  18269            94               37          113     96223   \n",
       "99904  18269            94               37          113     96624   \n",
       "99905  18269            94               37          113     96976   \n",
       "99906  18269            94               37          113     99890   \n",
       "\n",
       "      positive_review          ts     logDate   phoneNumber    device  \\\n",
       "0                   0  2022-03-10  07-10-2021  773-490-0967    Mobile   \n",
       "1                   0  2022-03-10  06-16-2021  485-654-6963  Computer   \n",
       "2                   0  2022-03-10  01-20-2021  200-303-6152    Mobile   \n",
       "3                   0  2022-03-10  05-23-2021  127-879-7425    Mobile   \n",
       "4                   0  2022-03-10  08-13-2021  942-645-2732    Mobile   \n",
       "...               ...         ...         ...           ...       ...   \n",
       "99902               0  2022-03-10  06-13-2021  146-344-1605    Tablet   \n",
       "99903               0  2022-03-10  02-20-2021  984-418-7929    Tablet   \n",
       "99904               1  2022-03-10  07-05-2021  245-491-4022  Computer   \n",
       "99905               0  2022-03-10  10-23-2021  554-502-8104    Mobile   \n",
       "99906               0  2022-03-10  05-09-2021  433-408-4245  Computer   \n",
       "\n",
       "         location                 os     ipAddress         browser  \n",
       "0          Kansas        Apple MacOS  9.200.232.57          Safari  \n",
       "1        Oklahoma        Apple MacOS  9.200.232.57          Safari  \n",
       "2          Nevada  Microsoft Windows  9.200.232.57  Microsoft Edge  \n",
       "3        Lousiana     Google Android  9.200.232.57   Google Chrome  \n",
       "4        Oklahoma              Linux  9.200.232.57         Firefox  \n",
       "...           ...                ...           ...             ...  \n",
       "99902    Missouri  Microsoft Windows  9.200.232.57  Microsoft Edge  \n",
       "99903  New Jersey     Google Android  9.200.232.57   Google Chrome  \n",
       "99904  California          Apple iOS  9.200.232.57          Safari  \n",
       "99905  Washington          Apple iOS  9.200.232.57          Safari  \n",
       "99906        Ohio     Google Android  9.200.232.57   Google Chrome  \n",
       "\n",
       "[99907 rows x 14 columns]"
      ]
     },
     "execution_count": 18,
     "metadata": {},
     "output_type": "execute_result"
    }
   ],
   "source": [
    "df = master.toPandas()\n",
    "df"
   ]
  },
  {
   "cell_type": "markdown",
   "metadata": {},
   "source": [
    "#### How many reviews were done in California, NY and Texas?"
   ]
  },
  {
   "cell_type": "code",
   "execution_count": 19,
   "metadata": {},
   "outputs": [
    {
     "data": {
      "text/html": [
       "<div>\n",
       "<style scoped>\n",
       "    .dataframe tbody tr th:only-of-type {\n",
       "        vertical-align: middle;\n",
       "    }\n",
       "\n",
       "    .dataframe tbody tr th {\n",
       "        vertical-align: top;\n",
       "    }\n",
       "\n",
       "    .dataframe thead th {\n",
       "        text-align: right;\n",
       "    }\n",
       "</style>\n",
       "<table border=\"1\" class=\"dataframe\">\n",
       "  <thead>\n",
       "    <tr style=\"text-align: right;\">\n",
       "      <th></th>\n",
       "      <th>count</th>\n",
       "    </tr>\n",
       "    <tr>\n",
       "      <th>location</th>\n",
       "      <th></th>\n",
       "    </tr>\n",
       "  </thead>\n",
       "  <tbody>\n",
       "    <tr>\n",
       "      <th>California</th>\n",
       "      <td>2057</td>\n",
       "    </tr>\n",
       "    <tr>\n",
       "      <th>New York</th>\n",
       "      <td>1957</td>\n",
       "    </tr>\n",
       "    <tr>\n",
       "      <th>Texas</th>\n",
       "      <td>2015</td>\n",
       "    </tr>\n",
       "  </tbody>\n",
       "</table>\n",
       "</div>"
      ],
      "text/plain": [
       "            count\n",
       "location         \n",
       "California   2057\n",
       "New York     1957\n",
       "Texas        2015"
      ]
     },
     "execution_count": 19,
     "metadata": {},
     "output_type": "execute_result"
    }
   ],
   "source": [
    "# df.location.unique()\n",
    "Q1 = df[df.location.isin(['California', 'Texas', 'New York'])] \\\n",
    "        .groupby('location').count()[['cid']]\n",
    "Q1.rename(columns = {'cid': 'count'}, inplace = True)\n",
    "Q1.head()"
   ]
  },
  {
   "cell_type": "markdown",
   "metadata": {},
   "source": [
    "#### How many reviews were done in California, NY, and Texas with an apple device? And how many for each device type?"
   ]
  },
  {
   "cell_type": "code",
   "execution_count": 20,
   "metadata": {},
   "outputs": [
    {
     "data": {
      "text/html": [
       "<div>\n",
       "<style scoped>\n",
       "    .dataframe tbody tr th:only-of-type {\n",
       "        vertical-align: middle;\n",
       "    }\n",
       "\n",
       "    .dataframe tbody tr th {\n",
       "        vertical-align: top;\n",
       "    }\n",
       "\n",
       "    .dataframe thead th {\n",
       "        text-align: right;\n",
       "    }\n",
       "</style>\n",
       "<table border=\"1\" class=\"dataframe\">\n",
       "  <thead>\n",
       "    <tr style=\"text-align: right;\">\n",
       "      <th></th>\n",
       "      <th></th>\n",
       "      <th>Count</th>\n",
       "    </tr>\n",
       "    <tr>\n",
       "      <th>location</th>\n",
       "      <th>device</th>\n",
       "      <th></th>\n",
       "    </tr>\n",
       "  </thead>\n",
       "  <tbody>\n",
       "    <tr>\n",
       "      <th rowspan=\"3\" valign=\"top\">California</th>\n",
       "      <th>Computer</th>\n",
       "      <td>698</td>\n",
       "    </tr>\n",
       "    <tr>\n",
       "      <th>Mobile</th>\n",
       "      <td>703</td>\n",
       "    </tr>\n",
       "    <tr>\n",
       "      <th>Tablet</th>\n",
       "      <td>656</td>\n",
       "    </tr>\n",
       "    <tr>\n",
       "      <th rowspan=\"3\" valign=\"top\">New York</th>\n",
       "      <th>Computer</th>\n",
       "      <td>640</td>\n",
       "    </tr>\n",
       "    <tr>\n",
       "      <th>Mobile</th>\n",
       "      <td>661</td>\n",
       "    </tr>\n",
       "    <tr>\n",
       "      <th>Tablet</th>\n",
       "      <td>656</td>\n",
       "    </tr>\n",
       "    <tr>\n",
       "      <th rowspan=\"3\" valign=\"top\">Texas</th>\n",
       "      <th>Computer</th>\n",
       "      <td>638</td>\n",
       "    </tr>\n",
       "    <tr>\n",
       "      <th>Mobile</th>\n",
       "      <td>650</td>\n",
       "    </tr>\n",
       "    <tr>\n",
       "      <th>Tablet</th>\n",
       "      <td>727</td>\n",
       "    </tr>\n",
       "  </tbody>\n",
       "</table>\n",
       "</div>"
      ],
      "text/plain": [
       "                     Count\n",
       "location   device         \n",
       "California Computer    698\n",
       "           Mobile      703\n",
       "           Tablet      656\n",
       "New York   Computer    640\n",
       "           Mobile      661\n",
       "           Tablet      656\n",
       "Texas      Computer    638\n",
       "           Mobile      650\n",
       "           Tablet      727"
      ]
     },
     "execution_count": 20,
     "metadata": {},
     "output_type": "execute_result"
    }
   ],
   "source": [
    "# df.location.unique()\n",
    "Q2 = df[ df.location.isin(['California', 'Texas', 'New York'])] \\\n",
    "        .groupby(['location', 'device']).count()[['cid']]\n",
    "Q2.rename(columns = {'cid': 'Count'}, inplace = True)\n",
    "Q2"
   ]
  },
  {
   "cell_type": "markdown",
   "metadata": {},
   "source": [
    "#### Which location has more reviews from a computer in a Chrome browser?"
   ]
  },
  {
   "cell_type": "code",
   "execution_count": 21,
   "metadata": {},
   "outputs": [
    {
     "data": {
      "text/html": [
       "<div>\n",
       "<style scoped>\n",
       "    .dataframe tbody tr th:only-of-type {\n",
       "        vertical-align: middle;\n",
       "    }\n",
       "\n",
       "    .dataframe tbody tr th {\n",
       "        vertical-align: top;\n",
       "    }\n",
       "\n",
       "    .dataframe thead th {\n",
       "        text-align: right;\n",
       "    }\n",
       "</style>\n",
       "<table border=\"1\" class=\"dataframe\">\n",
       "  <thead>\n",
       "    <tr style=\"text-align: right;\">\n",
       "      <th></th>\n",
       "      <th>Count - Chrome Browser</th>\n",
       "    </tr>\n",
       "    <tr>\n",
       "      <th>location</th>\n",
       "      <th></th>\n",
       "    </tr>\n",
       "  </thead>\n",
       "  <tbody>\n",
       "    <tr>\n",
       "      <th>Massachussets</th>\n",
       "      <td>159</td>\n",
       "    </tr>\n",
       "    <tr>\n",
       "      <th>Montana</th>\n",
       "      <td>156</td>\n",
       "    </tr>\n",
       "    <tr>\n",
       "      <th>South Dakota</th>\n",
       "      <td>154</td>\n",
       "    </tr>\n",
       "    <tr>\n",
       "      <th>Nevada</th>\n",
       "      <td>151</td>\n",
       "    </tr>\n",
       "    <tr>\n",
       "      <th>Washington</th>\n",
       "      <td>148</td>\n",
       "    </tr>\n",
       "  </tbody>\n",
       "</table>\n",
       "</div>"
      ],
      "text/plain": [
       "               Count - Chrome Browser\n",
       "location                             \n",
       "Massachussets                     159\n",
       "Montana                           156\n",
       "South Dakota                      154\n",
       "Nevada                            151\n",
       "Washington                        148"
      ]
     },
     "execution_count": 21,
     "metadata": {},
     "output_type": "execute_result"
    }
   ],
   "source": [
    "Q3 = df[ (df.device == 'Computer') & (df.browser == 'Google Chrome')] \\\n",
    "        .groupby('location').count()[['cid']] \\\n",
    "        .sort_values('cid', ascending =False)\n",
    "Q3.rename(columns = {'cid': 'Count - Chrome Browser'}, inplace = True)\n",
    "Q3.head()"
   ]
  },
  {
   "cell_type": "markdown",
   "metadata": {},
   "source": [
    "#### What are the states with more and fewer reviews in 2021?"
   ]
  },
  {
   "cell_type": "code",
   "execution_count": 22,
   "metadata": {},
   "outputs": [
    {
     "data": {
      "text/html": [
       "<div>\n",
       "<style scoped>\n",
       "    .dataframe tbody tr th:only-of-type {\n",
       "        vertical-align: middle;\n",
       "    }\n",
       "\n",
       "    .dataframe tbody tr th {\n",
       "        vertical-align: top;\n",
       "    }\n",
       "\n",
       "    .dataframe thead th {\n",
       "        text-align: right;\n",
       "    }\n",
       "</style>\n",
       "<table border=\"1\" class=\"dataframe\">\n",
       "  <thead>\n",
       "    <tr style=\"text-align: right;\">\n",
       "      <th></th>\n",
       "      <th>Count</th>\n",
       "    </tr>\n",
       "    <tr>\n",
       "      <th>location</th>\n",
       "      <th></th>\n",
       "    </tr>\n",
       "  </thead>\n",
       "  <tbody>\n",
       "    <tr>\n",
       "      <th>Georgia</th>\n",
       "      <td>2100</td>\n",
       "    </tr>\n",
       "    <tr>\n",
       "      <th>Vermont</th>\n",
       "      <td>1888</td>\n",
       "    </tr>\n",
       "  </tbody>\n",
       "</table>\n",
       "</div>"
      ],
      "text/plain": [
       "          Count\n",
       "location       \n",
       "Georgia    2100\n",
       "Vermont    1888"
      ]
     },
     "execution_count": 22,
     "metadata": {},
     "output_type": "execute_result"
    }
   ],
   "source": [
    "Q4 = df.groupby('location').count()[['cid']]\\\n",
    "    .loc[['Georgia', 'Vermont']]\n",
    "Q4.rename(columns = {'cid': 'Count'}, inplace = True)\n",
    "Q4.head()\n"
   ]
  },
  {
   "cell_type": "markdown",
   "metadata": {},
   "source": [
    "#### Which device is the most used to write reviews in the east and which one in the west?"
   ]
  },
  {
   "cell_type": "code",
   "execution_count": 23,
   "metadata": {},
   "outputs": [
    {
     "data": {
      "text/html": [
       "<div>\n",
       "<style scoped>\n",
       "    .dataframe tbody tr th:only-of-type {\n",
       "        vertical-align: middle;\n",
       "    }\n",
       "\n",
       "    .dataframe tbody tr th {\n",
       "        vertical-align: top;\n",
       "    }\n",
       "\n",
       "    .dataframe thead th {\n",
       "        text-align: right;\n",
       "    }\n",
       "</style>\n",
       "<table border=\"1\" class=\"dataframe\">\n",
       "  <thead>\n",
       "    <tr style=\"text-align: right;\">\n",
       "      <th></th>\n",
       "      <th>Count - West</th>\n",
       "    </tr>\n",
       "    <tr>\n",
       "      <th>device</th>\n",
       "      <th></th>\n",
       "    </tr>\n",
       "  </thead>\n",
       "  <tbody>\n",
       "    <tr>\n",
       "      <th>Mobile</th>\n",
       "      <td>8853</td>\n",
       "    </tr>\n",
       "    <tr>\n",
       "      <th>Tablet</th>\n",
       "      <td>8680</td>\n",
       "    </tr>\n",
       "    <tr>\n",
       "      <th>Computer</th>\n",
       "      <td>8657</td>\n",
       "    </tr>\n",
       "  </tbody>\n",
       "</table>\n",
       "</div>"
      ],
      "text/plain": [
       "          Count - West\n",
       "device                \n",
       "Mobile            8853\n",
       "Tablet            8680\n",
       "Computer          8657"
      ]
     },
     "execution_count": 23,
     "metadata": {},
     "output_type": "execute_result"
    }
   ],
   "source": [
    "west = ['Alaska', 'Arizona','California', 'Colorado', 'Hawaii', 'Idaho', 'Montana', 'Nevada', 'New Mexico', \n",
    "            'Oregon', 'Utah', 'Washington', 'Wyoming']\n",
    "east = ['Maine', 'New Hampshire', 'Massachusetts', 'Rhode Island', 'Connecticut',' New York', 'New Jersey', \n",
    "            'Delaware', 'Maryland', 'Virginia',' North Carolina', 'South Carolina', 'Georgia', 'Florida']\n",
    "\n",
    "Q5_west = df[df.location.isin(west)].groupby('device').count()[['cid']] \\\n",
    "            .sort_values('cid', ascending = False)\n",
    "Q5_west.rename(columns = {'cid': 'Count - West'}, inplace = True)\n",
    "Q5_west.head()"
   ]
  },
  {
   "cell_type": "code",
   "execution_count": 24,
   "metadata": {},
   "outputs": [
    {
     "data": {
      "text/html": [
       "<div>\n",
       "<style scoped>\n",
       "    .dataframe tbody tr th:only-of-type {\n",
       "        vertical-align: middle;\n",
       "    }\n",
       "\n",
       "    .dataframe tbody tr th {\n",
       "        vertical-align: top;\n",
       "    }\n",
       "\n",
       "    .dataframe thead th {\n",
       "        text-align: right;\n",
       "    }\n",
       "</style>\n",
       "<table border=\"1\" class=\"dataframe\">\n",
       "  <thead>\n",
       "    <tr style=\"text-align: right;\">\n",
       "      <th></th>\n",
       "      <th>Count - East</th>\n",
       "    </tr>\n",
       "    <tr>\n",
       "      <th>device</th>\n",
       "      <th></th>\n",
       "    </tr>\n",
       "  </thead>\n",
       "  <tbody>\n",
       "    <tr>\n",
       "      <th>Mobile</th>\n",
       "      <td>7347</td>\n",
       "    </tr>\n",
       "    <tr>\n",
       "      <th>Tablet</th>\n",
       "      <td>7347</td>\n",
       "    </tr>\n",
       "    <tr>\n",
       "      <th>Computer</th>\n",
       "      <td>7289</td>\n",
       "    </tr>\n",
       "  </tbody>\n",
       "</table>\n",
       "</div>"
      ],
      "text/plain": [
       "          Count - East\n",
       "device                \n",
       "Mobile            7347\n",
       "Tablet            7347\n",
       "Computer          7289"
      ]
     },
     "execution_count": 24,
     "metadata": {},
     "output_type": "execute_result"
    }
   ],
   "source": [
    "Q5_east = df[df.location.isin(east)].groupby('device').count()[['cid']] \\\n",
    "            .sort_values('cid', ascending = False)\n",
    "Q5_east.rename(columns = {'cid': 'Count - East'}, inplace = True)\n",
    "Q5_east.head()"
   ]
  },
  {
   "cell_type": "markdown",
   "metadata": {},
   "source": [
    "## More Analytics"
   ]
  },
  {
   "cell_type": "code",
   "execution_count": 25,
   "metadata": {},
   "outputs": [
    {
     "data": {
      "text/html": [
       "<div>\n",
       "<style scoped>\n",
       "    .dataframe tbody tr th:only-of-type {\n",
       "        vertical-align: middle;\n",
       "    }\n",
       "\n",
       "    .dataframe tbody tr th {\n",
       "        vertical-align: top;\n",
       "    }\n",
       "\n",
       "    .dataframe thead th {\n",
       "        text-align: right;\n",
       "    }\n",
       "</style>\n",
       "<table border=\"1\" class=\"dataframe\">\n",
       "  <thead>\n",
       "    <tr style=\"text-align: right;\">\n",
       "      <th></th>\n",
       "      <th>amount_spent</th>\n",
       "      <th>num_pos_reviews</th>\n",
       "      <th>num_reviews</th>\n",
       "    </tr>\n",
       "  </thead>\n",
       "  <tbody>\n",
       "    <tr>\n",
       "      <th>count</th>\n",
       "      <td>99907.000000</td>\n",
       "      <td>99907.000000</td>\n",
       "      <td>99907.000000</td>\n",
       "    </tr>\n",
       "    <tr>\n",
       "      <th>mean</th>\n",
       "      <td>3347.844405</td>\n",
       "      <td>36.400703</td>\n",
       "      <td>110.956219</td>\n",
       "    </tr>\n",
       "    <tr>\n",
       "      <th>std</th>\n",
       "      <td>12485.552927</td>\n",
       "      <td>6.208045</td>\n",
       "      <td>10.118933</td>\n",
       "    </tr>\n",
       "    <tr>\n",
       "      <th>min</th>\n",
       "      <td>-1024.000000</td>\n",
       "      <td>21.000000</td>\n",
       "      <td>81.000000</td>\n",
       "    </tr>\n",
       "    <tr>\n",
       "      <th>25%</th>\n",
       "      <td>357.000000</td>\n",
       "      <td>32.000000</td>\n",
       "      <td>104.000000</td>\n",
       "    </tr>\n",
       "    <tr>\n",
       "      <th>50%</th>\n",
       "      <td>1068.000000</td>\n",
       "      <td>36.000000</td>\n",
       "      <td>111.000000</td>\n",
       "    </tr>\n",
       "    <tr>\n",
       "      <th>75%</th>\n",
       "      <td>2604.000000</td>\n",
       "      <td>41.000000</td>\n",
       "      <td>118.000000</td>\n",
       "    </tr>\n",
       "    <tr>\n",
       "      <th>max</th>\n",
       "      <td>220769.000000</td>\n",
       "      <td>58.000000</td>\n",
       "      <td>141.000000</td>\n",
       "    </tr>\n",
       "  </tbody>\n",
       "</table>\n",
       "</div>"
      ],
      "text/plain": [
       "        amount_spent  num_pos_reviews   num_reviews\n",
       "count   99907.000000     99907.000000  99907.000000\n",
       "mean     3347.844405        36.400703    110.956219\n",
       "std     12485.552927         6.208045     10.118933\n",
       "min     -1024.000000        21.000000     81.000000\n",
       "25%       357.000000        32.000000    104.000000\n",
       "50%      1068.000000        36.000000    111.000000\n",
       "75%      2604.000000        41.000000    118.000000\n",
       "max    220769.000000        58.000000    141.000000"
      ]
     },
     "execution_count": 25,
     "metadata": {},
     "output_type": "execute_result"
    }
   ],
   "source": [
    "df.describe()\n"
   ]
  },
  {
   "cell_type": "code",
   "execution_count": 26,
   "metadata": {},
   "outputs": [
    {
     "data": {
      "text/html": [
       "<div>\n",
       "<style scoped>\n",
       "    .dataframe tbody tr th:only-of-type {\n",
       "        vertical-align: middle;\n",
       "    }\n",
       "\n",
       "    .dataframe tbody tr th {\n",
       "        vertical-align: top;\n",
       "    }\n",
       "\n",
       "    .dataframe thead th {\n",
       "        text-align: right;\n",
       "    }\n",
       "</style>\n",
       "<table border=\"1\" class=\"dataframe\">\n",
       "  <thead>\n",
       "    <tr style=\"text-align: right;\">\n",
       "      <th></th>\n",
       "      <th>amount_spent</th>\n",
       "      <th>num_pos_reviews</th>\n",
       "      <th>num_reviews</th>\n",
       "    </tr>\n",
       "    <tr>\n",
       "      <th>browser</th>\n",
       "      <th></th>\n",
       "      <th></th>\n",
       "      <th></th>\n",
       "    </tr>\n",
       "  </thead>\n",
       "  <tbody>\n",
       "    <tr>\n",
       "      <th>Firefox</th>\n",
       "      <td>1069.0</td>\n",
       "      <td>36.0</td>\n",
       "      <td>111.0</td>\n",
       "    </tr>\n",
       "    <tr>\n",
       "      <th>Google Chrome</th>\n",
       "      <td>1080.0</td>\n",
       "      <td>36.0</td>\n",
       "      <td>111.0</td>\n",
       "    </tr>\n",
       "    <tr>\n",
       "      <th>Microsoft Edge</th>\n",
       "      <td>1068.0</td>\n",
       "      <td>36.0</td>\n",
       "      <td>111.0</td>\n",
       "    </tr>\n",
       "    <tr>\n",
       "      <th>Safari</th>\n",
       "      <td>1068.0</td>\n",
       "      <td>36.0</td>\n",
       "      <td>111.0</td>\n",
       "    </tr>\n",
       "  </tbody>\n",
       "</table>\n",
       "</div>"
      ],
      "text/plain": [
       "                amount_spent  num_pos_reviews  num_reviews\n",
       "browser                                                   \n",
       "Firefox               1069.0             36.0        111.0\n",
       "Google Chrome         1080.0             36.0        111.0\n",
       "Microsoft Edge        1068.0             36.0        111.0\n",
       "Safari                1068.0             36.0        111.0"
      ]
     },
     "execution_count": 26,
     "metadata": {},
     "output_type": "execute_result"
    }
   ],
   "source": [
    "df.groupby('browser')[['amount_spent', 'num_pos_reviews', 'num_reviews']].median()"
   ]
  },
  {
   "cell_type": "code",
   "execution_count": 27,
   "metadata": {},
   "outputs": [
    {
     "data": {
      "image/png": "[encoded data removed]",
      "text/plain": [
       "<Figure size 864x576 with 1 Axes>"
      ]
     },
     "metadata": {},
     "output_type": "display_data"
    }
   ],
   "source": [
    "sns.set()  \n",
    "plt.figure(figsize = (12,8))  \n",
    "sns.histplot(df.amount_spent, color=[126/255, 66/255, 89/255], kde = True)\\\n",
    "    .set_title('Distribution of Amount Spent', fontdict = {'fontsize': 20, 'weight' :'bold'}) \n",
    "plt.xlim([-1024, 50000])\n",
    "plt.xlabel('Amount spent', fontsize = 12)\n",
    "plt.ylabel('Count', fontsize = 12)\n",
    "plt.savefig(fig_path + '/DistributionOfAmountSpent' + '.svg' , dpi = 800) \n",
    "plt.show()"
   ]
  },
  {
   "cell_type": "code",
   "execution_count": 28,
   "metadata": {},
   "outputs": [
    {
     "data": {
      "image/png": "[encoded data removed]",
      "text/plain": [
       "<Figure size 864x576 with 1 Axes>"
      ]
     },
     "metadata": {},
     "output_type": "display_data"
    }
   ],
   "source": [
    "plt.figure(figsize = (12,8))\n",
    "sns.histplot(x = df.amount_spent, hue = df.os, palette=\"ch:.25\",  element=\"step\")\\\n",
    "    .set_title('Amount spent by OS', fontdict = {'fontsize': 20, 'weight' :'bold'}) \n",
    "plt.xlim([df.amount_spent.min(), 15000])\n",
    "\n",
    "plt.xlabel('Amount spent', fontsize = 12)\n",
    "plt.ylabel('Count', fontsize = 12)\n",
    "plt.savefig(fig_path + '/DistributionOfAmountSpentOS' + '.svg' , dpi = 800) \n",
    "plt.show()"
   ]
  },
  {
   "cell_type": "code",
   "execution_count": 29,
   "metadata": {},
   "outputs": [
    {
     "data": {
      "image/png": "[encoded data removed]",
      "text/plain": [
       "<Figure size 1440x576 with 1 Axes>"
      ]
     },
     "metadata": {},
     "output_type": "display_data"
    }
   ],
   "source": [
    "plt.figure(figsize = (20,8))\n",
    "sns.boxplot(x = 'os', hue = 'device', y = 'amount_spent', data = df, palette=\"ch:.25\") \\\n",
    "    .set_title('Distribution of Amount Spent by Device', fontdict = {'fontsize': 20, 'weight' :'bold'}) \n",
    "plt.ylim([-4000, 30000]) \n",
    "plt.legend(bbox_to_anchor=(1.02, 1), loc='upper left', borderaxespad=0)\n",
    "plt.xlabel('Os', fontsize = 12)\n",
    "plt.ylabel('Count', fontsize = 12)\n",
    "plt.savefig(fig_path + '/BoxPlotfAmountSpentOSDevice' + '.svg' , dpi = 800) \n",
    "plt.show()"
   ]
  },
  {
   "cell_type": "code",
   "execution_count": 30,
   "metadata": {},
   "outputs": [
    {
     "data": {
      "image/png": "[encoded data removed]",
      "text/plain": [
       "<Figure size 864x576 with 1 Axes>"
      ]
     },
     "metadata": {},
     "output_type": "display_data"
    }
   ],
   "source": [
    "plt.figure(figsize = (12,8))\n",
    "sns.countplot(x=\"location\", palette=\"ch:.25\", data = df[df.location.isin(east)])\\\n",
    "    .set_title('Number of reviews in the East', fontdict = {'fontsize': 20, 'weight' :'bold'})\n",
    "plt.xlabel('State', fontsize = 12)\n",
    "plt.xticks(rotation=45)\n",
    "plt.ylabel('Count', fontsize = 12)\n",
    "plt.savefig(fig_path + '/BarPlotReviewEast' + '.svg' , dpi = 800) \n",
    "plt.show()"
   ]
  },
  {
   "cell_type": "code",
   "execution_count": 31,
   "metadata": {},
   "outputs": [
    {
     "data": {
      "image/png": "[encoded data removed]",
      "text/plain": [
       "<Figure size 864x576 with 1 Axes>"
      ]
     },
     "metadata": {},
     "output_type": "display_data"
    }
   ],
   "source": [
    "sns.set_context(\"paper\", rc={\"font.size\":10,\"axes.titlesize\":12,\"axes.labelsize\":5})   \n",
    "plt.figure(figsize = (12,8))\n",
    "sns.countplot(x=\"location\", palette=\"ch:.25\", data = df[df.location.isin(west)])\\\n",
    "    .set_title('Number of reviews in the West', fontdict = {'fontsize': 20, 'weight' :'bold'})\n",
    "plt.xlabel('State', fontsize = 12)\n",
    "plt.ylabel('Count', fontsize = 12)\n",
    "plt.savefig(fig_path + '/BarPlotReviewWest' + '.svg' , dpi = 800) \n",
    "plt.show()"
   ]
  },
  {
   "cell_type": "code",
   "execution_count": 32,
   "metadata": {},
   "outputs": [
    {
     "name": "stderr",
     "output_type": "stream",
     "text": [
      "/var/folders/p8/hcc3hbg92yvd4fclbgllz3380000gn/T/ipykernel_32702/858473174.py:2: SettingWithCopyWarning: \n",
      "A value is trying to be set on a copy of a slice from a DataFrame.\n",
      "Try using .loc[row_indexer,col_indexer] = value instead\n",
      "\n",
      "See the caveats in the documentation: https://pandas.pydata.org/pandas-docs/stable/user_guide/indexing.html#returning-a-view-versus-a-copy\n",
      "  df_states['zone'] = df_states.location.apply(lambda state : 'east' if state in east else 'west')\n"
     ]
    }
   ],
   "source": [
    "df_states = df[df.location.isin(west + east)]\n",
    "df_states['zone'] = df_states.location.apply(lambda state : 'east' if state in east else 'west')"
   ]
  },
  {
   "cell_type": "code",
   "execution_count": 33,
   "metadata": {},
   "outputs": [
    {
     "data": {
      "text/html": [
       "<div>\n",
       "<style scoped>\n",
       "    .dataframe tbody tr th:only-of-type {\n",
       "        vertical-align: middle;\n",
       "    }\n",
       "\n",
       "    .dataframe tbody tr th {\n",
       "        vertical-align: top;\n",
       "    }\n",
       "\n",
       "    .dataframe thead th {\n",
       "        text-align: right;\n",
       "    }\n",
       "</style>\n",
       "<table border=\"1\" class=\"dataframe\">\n",
       "  <thead>\n",
       "    <tr style=\"text-align: right;\">\n",
       "      <th></th>\n",
       "      <th>cid</th>\n",
       "      <th>amount_spent</th>\n",
       "      <th>num_pos_reviews</th>\n",
       "      <th>num_reviews</th>\n",
       "      <th>id_review</th>\n",
       "      <th>positive_review</th>\n",
       "      <th>ts</th>\n",
       "      <th>logDate</th>\n",
       "      <th>phoneNumber</th>\n",
       "      <th>device</th>\n",
       "      <th>location</th>\n",
       "      <th>os</th>\n",
       "      <th>ipAddress</th>\n",
       "      <th>browser</th>\n",
       "      <th>zone</th>\n",
       "    </tr>\n",
       "  </thead>\n",
       "  <tbody>\n",
       "    <tr>\n",
       "      <th>2</th>\n",
       "      <td>12347</td>\n",
       "      <td>3012</td>\n",
       "      <td>44</td>\n",
       "      <td>131</td>\n",
       "      <td>2612</td>\n",
       "      <td>0</td>\n",
       "      <td>2022-03-10</td>\n",
       "      <td>01-20-2021</td>\n",
       "      <td>200-303-6152</td>\n",
       "      <td>Mobile</td>\n",
       "      <td>Nevada</td>\n",
       "      <td>Microsoft Windows</td>\n",
       "      <td>9.200.232.57</td>\n",
       "      <td>Microsoft Edge</td>\n",
       "      <td>west</td>\n",
       "    </tr>\n",
       "    <tr>\n",
       "      <th>5</th>\n",
       "      <td>12347</td>\n",
       "      <td>3012</td>\n",
       "      <td>44</td>\n",
       "      <td>131</td>\n",
       "      <td>4345</td>\n",
       "      <td>1</td>\n",
       "      <td>2022-03-10</td>\n",
       "      <td>10-03-2021</td>\n",
       "      <td>251-060-2189</td>\n",
       "      <td>Mobile</td>\n",
       "      <td>Virginia</td>\n",
       "      <td>Apple iOS</td>\n",
       "      <td>9.200.232.57</td>\n",
       "      <td>Safari</td>\n",
       "      <td>east</td>\n",
       "    </tr>\n",
       "    <tr>\n",
       "      <th>7</th>\n",
       "      <td>12347</td>\n",
       "      <td>3012</td>\n",
       "      <td>44</td>\n",
       "      <td>131</td>\n",
       "      <td>4646</td>\n",
       "      <td>1</td>\n",
       "      <td>2022-03-10</td>\n",
       "      <td>06-17-2021</td>\n",
       "      <td>352-562-3858</td>\n",
       "      <td>Tablet</td>\n",
       "      <td>Arizona</td>\n",
       "      <td>Microsoft Windows</td>\n",
       "      <td>9.200.232.57</td>\n",
       "      <td>Microsoft Edge</td>\n",
       "      <td>west</td>\n",
       "    </tr>\n",
       "  </tbody>\n",
       "</table>\n",
       "</div>"
      ],
      "text/plain": [
       "     cid  amount_spent  num_pos_reviews  num_reviews id_review  \\\n",
       "2  12347          3012               44          131      2612   \n",
       "5  12347          3012               44          131      4345   \n",
       "7  12347          3012               44          131      4646   \n",
       "\n",
       "  positive_review          ts     logDate   phoneNumber  device  location  \\\n",
       "2               0  2022-03-10  01-20-2021  200-303-6152  Mobile    Nevada   \n",
       "5               1  2022-03-10  10-03-2021  251-060-2189  Mobile  Virginia   \n",
       "7               1  2022-03-10  06-17-2021  352-562-3858  Tablet   Arizona   \n",
       "\n",
       "                  os     ipAddress         browser  zone  \n",
       "2  Microsoft Windows  9.200.232.57  Microsoft Edge  west  \n",
       "5          Apple iOS  9.200.232.57          Safari  east  \n",
       "7  Microsoft Windows  9.200.232.57  Microsoft Edge  west  "
      ]
     },
     "execution_count": 33,
     "metadata": {},
     "output_type": "execute_result"
    }
   ],
   "source": [
    "df_states.head(3)"
   ]
  },
  {
   "cell_type": "code",
   "execution_count": 34,
   "metadata": {},
   "outputs": [
    {
     "data": {
      "text/html": [
       "<div>\n",
       "<style scoped>\n",
       "    .dataframe tbody tr th:only-of-type {\n",
       "        vertical-align: middle;\n",
       "    }\n",
       "\n",
       "    .dataframe tbody tr th {\n",
       "        vertical-align: top;\n",
       "    }\n",
       "\n",
       "    .dataframe thead th {\n",
       "        text-align: right;\n",
       "    }\n",
       "</style>\n",
       "<table border=\"1\" class=\"dataframe\">\n",
       "  <thead>\n",
       "    <tr style=\"text-align: right;\">\n",
       "      <th></th>\n",
       "      <th></th>\n",
       "      <th>count</th>\n",
       "    </tr>\n",
       "    <tr>\n",
       "      <th>zone</th>\n",
       "      <th>positive_review</th>\n",
       "      <th></th>\n",
       "    </tr>\n",
       "  </thead>\n",
       "  <tbody>\n",
       "    <tr>\n",
       "      <th rowspan=\"2\" valign=\"top\">east</th>\n",
       "      <th>0</th>\n",
       "      <td>14803</td>\n",
       "    </tr>\n",
       "    <tr>\n",
       "      <th>1</th>\n",
       "      <td>7180</td>\n",
       "    </tr>\n",
       "    <tr>\n",
       "      <th rowspan=\"2\" valign=\"top\">west</th>\n",
       "      <th>0</th>\n",
       "      <td>17703</td>\n",
       "    </tr>\n",
       "    <tr>\n",
       "      <th>1</th>\n",
       "      <td>8487</td>\n",
       "    </tr>\n",
       "  </tbody>\n",
       "</table>\n",
       "</div>"
      ],
      "text/plain": [
       "                      count\n",
       "zone positive_review       \n",
       "east 0                14803\n",
       "     1                 7180\n",
       "west 0                17703\n",
       "     1                 8487"
      ]
     },
     "execution_count": 34,
     "metadata": {},
     "output_type": "execute_result"
    }
   ],
   "source": [
    "df_positives_zone = df_states.groupby(['zone','positive_review']).count()[['cid']]\n",
    "df_positives_zone.rename(columns = {'cid': 'count'}, inplace = True)\n",
    "df_positives_zone"
   ]
  },
  {
   "cell_type": "code",
   "execution_count": 35,
   "metadata": {},
   "outputs": [
    {
     "data": {
      "text/html": [
       "<div>\n",
       "<style scoped>\n",
       "    .dataframe tbody tr th:only-of-type {\n",
       "        vertical-align: middle;\n",
       "    }\n",
       "\n",
       "    .dataframe tbody tr th {\n",
       "        vertical-align: top;\n",
       "    }\n",
       "\n",
       "    .dataframe thead th {\n",
       "        text-align: right;\n",
       "    }\n",
       "</style>\n",
       "<table border=\"1\" class=\"dataframe\">\n",
       "  <thead>\n",
       "    <tr style=\"text-align: right;\">\n",
       "      <th></th>\n",
       "      <th>cid</th>\n",
       "      <th>amount_spent</th>\n",
       "      <th>num_pos_reviews</th>\n",
       "      <th>num_reviews</th>\n",
       "      <th>id_review</th>\n",
       "      <th>positive_review</th>\n",
       "      <th>ts</th>\n",
       "      <th>logDate</th>\n",
       "      <th>phoneNumber</th>\n",
       "      <th>device</th>\n",
       "      <th>location</th>\n",
       "      <th>os</th>\n",
       "      <th>ipAddress</th>\n",
       "      <th>browser</th>\n",
       "    </tr>\n",
       "  </thead>\n",
       "  <tbody>\n",
       "    <tr>\n",
       "      <th>0</th>\n",
       "      <td>12347</td>\n",
       "      <td>3012</td>\n",
       "      <td>44</td>\n",
       "      <td>131</td>\n",
       "      <td>938</td>\n",
       "      <td>0</td>\n",
       "      <td>2022-03-10</td>\n",
       "      <td>07-10-2021</td>\n",
       "      <td>773-490-0967</td>\n",
       "      <td>Mobile</td>\n",
       "      <td>Kansas</td>\n",
       "      <td>Apple MacOS</td>\n",
       "      <td>9.200.232.57</td>\n",
       "      <td>Safari</td>\n",
       "    </tr>\n",
       "    <tr>\n",
       "      <th>1</th>\n",
       "      <td>12347</td>\n",
       "      <td>3012</td>\n",
       "      <td>44</td>\n",
       "      <td>131</td>\n",
       "      <td>972</td>\n",
       "      <td>0</td>\n",
       "      <td>2022-03-10</td>\n",
       "      <td>06-16-2021</td>\n",
       "      <td>485-654-6963</td>\n",
       "      <td>Computer</td>\n",
       "      <td>Oklahoma</td>\n",
       "      <td>Apple MacOS</td>\n",
       "      <td>9.200.232.57</td>\n",
       "      <td>Safari</td>\n",
       "    </tr>\n",
       "    <tr>\n",
       "      <th>2</th>\n",
       "      <td>12347</td>\n",
       "      <td>3012</td>\n",
       "      <td>44</td>\n",
       "      <td>131</td>\n",
       "      <td>2612</td>\n",
       "      <td>0</td>\n",
       "      <td>2022-03-10</td>\n",
       "      <td>01-20-2021</td>\n",
       "      <td>200-303-6152</td>\n",
       "      <td>Mobile</td>\n",
       "      <td>Nevada</td>\n",
       "      <td>Microsoft Windows</td>\n",
       "      <td>9.200.232.57</td>\n",
       "      <td>Microsoft Edge</td>\n",
       "    </tr>\n",
       "    <tr>\n",
       "      <th>3</th>\n",
       "      <td>12347</td>\n",
       "      <td>3012</td>\n",
       "      <td>44</td>\n",
       "      <td>131</td>\n",
       "      <td>2719</td>\n",
       "      <td>0</td>\n",
       "      <td>2022-03-10</td>\n",
       "      <td>05-23-2021</td>\n",
       "      <td>127-879-7425</td>\n",
       "      <td>Mobile</td>\n",
       "      <td>Lousiana</td>\n",
       "      <td>Google Android</td>\n",
       "      <td>9.200.232.57</td>\n",
       "      <td>Google Chrome</td>\n",
       "    </tr>\n",
       "    <tr>\n",
       "      <th>4</th>\n",
       "      <td>12347</td>\n",
       "      <td>3012</td>\n",
       "      <td>44</td>\n",
       "      <td>131</td>\n",
       "      <td>4144</td>\n",
       "      <td>0</td>\n",
       "      <td>2022-03-10</td>\n",
       "      <td>08-13-2021</td>\n",
       "      <td>942-645-2732</td>\n",
       "      <td>Mobile</td>\n",
       "      <td>Oklahoma</td>\n",
       "      <td>Linux</td>\n",
       "      <td>9.200.232.57</td>\n",
       "      <td>Firefox</td>\n",
       "    </tr>\n",
       "    <tr>\n",
       "      <th>...</th>\n",
       "      <td>...</td>\n",
       "      <td>...</td>\n",
       "      <td>...</td>\n",
       "      <td>...</td>\n",
       "      <td>...</td>\n",
       "      <td>...</td>\n",
       "      <td>...</td>\n",
       "      <td>...</td>\n",
       "      <td>...</td>\n",
       "      <td>...</td>\n",
       "      <td>...</td>\n",
       "      <td>...</td>\n",
       "      <td>...</td>\n",
       "      <td>...</td>\n",
       "    </tr>\n",
       "    <tr>\n",
       "      <th>99902</th>\n",
       "      <td>18269</td>\n",
       "      <td>94</td>\n",
       "      <td>37</td>\n",
       "      <td>113</td>\n",
       "      <td>95573</td>\n",
       "      <td>0</td>\n",
       "      <td>2022-03-10</td>\n",
       "      <td>06-13-2021</td>\n",
       "      <td>146-344-1605</td>\n",
       "      <td>Tablet</td>\n",
       "      <td>Missouri</td>\n",
       "      <td>Microsoft Windows</td>\n",
       "      <td>9.200.232.57</td>\n",
       "      <td>Microsoft Edge</td>\n",
       "    </tr>\n",
       "    <tr>\n",
       "      <th>99903</th>\n",
       "      <td>18269</td>\n",
       "      <td>94</td>\n",
       "      <td>37</td>\n",
       "      <td>113</td>\n",
       "      <td>96223</td>\n",
       "      <td>0</td>\n",
       "      <td>2022-03-10</td>\n",
       "      <td>02-20-2021</td>\n",
       "      <td>984-418-7929</td>\n",
       "      <td>Tablet</td>\n",
       "      <td>New Jersey</td>\n",
       "      <td>Google Android</td>\n",
       "      <td>9.200.232.57</td>\n",
       "      <td>Google Chrome</td>\n",
       "    </tr>\n",
       "    <tr>\n",
       "      <th>99904</th>\n",
       "      <td>18269</td>\n",
       "      <td>94</td>\n",
       "      <td>37</td>\n",
       "      <td>113</td>\n",
       "      <td>96624</td>\n",
       "      <td>1</td>\n",
       "      <td>2022-03-10</td>\n",
       "      <td>07-05-2021</td>\n",
       "      <td>245-491-4022</td>\n",
       "      <td>Computer</td>\n",
       "      <td>California</td>\n",
       "      <td>Apple iOS</td>\n",
       "      <td>9.200.232.57</td>\n",
       "      <td>Safari</td>\n",
       "    </tr>\n",
       "    <tr>\n",
       "      <th>99905</th>\n",
       "      <td>18269</td>\n",
       "      <td>94</td>\n",
       "      <td>37</td>\n",
       "      <td>113</td>\n",
       "      <td>96976</td>\n",
       "      <td>0</td>\n",
       "      <td>2022-03-10</td>\n",
       "      <td>10-23-2021</td>\n",
       "      <td>554-502-8104</td>\n",
       "      <td>Mobile</td>\n",
       "      <td>Washington</td>\n",
       "      <td>Apple iOS</td>\n",
       "      <td>9.200.232.57</td>\n",
       "      <td>Safari</td>\n",
       "    </tr>\n",
       "    <tr>\n",
       "      <th>99906</th>\n",
       "      <td>18269</td>\n",
       "      <td>94</td>\n",
       "      <td>37</td>\n",
       "      <td>113</td>\n",
       "      <td>99890</td>\n",
       "      <td>0</td>\n",
       "      <td>2022-03-10</td>\n",
       "      <td>05-09-2021</td>\n",
       "      <td>433-408-4245</td>\n",
       "      <td>Computer</td>\n",
       "      <td>Ohio</td>\n",
       "      <td>Google Android</td>\n",
       "      <td>9.200.232.57</td>\n",
       "      <td>Google Chrome</td>\n",
       "    </tr>\n",
       "  </tbody>\n",
       "</table>\n",
       "<p>99907 rows × 14 columns</p>\n",
       "</div>"
      ],
      "text/plain": [
       "         cid  amount_spent  num_pos_reviews  num_reviews id_review  \\\n",
       "0      12347          3012               44          131       938   \n",
       "1      12347          3012               44          131       972   \n",
       "2      12347          3012               44          131      2612   \n",
       "3      12347          3012               44          131      2719   \n",
       "4      12347          3012               44          131      4144   \n",
       "...      ...           ...              ...          ...       ...   \n",
       "99902  18269            94               37          113     95573   \n",
       "99903  18269            94               37          113     96223   \n",
       "99904  18269            94               37          113     96624   \n",
       "99905  18269            94               37          113     96976   \n",
       "99906  18269            94               37          113     99890   \n",
       "\n",
       "      positive_review          ts     logDate   phoneNumber    device  \\\n",
       "0                   0  2022-03-10  07-10-2021  773-490-0967    Mobile   \n",
       "1                   0  2022-03-10  06-16-2021  485-654-6963  Computer   \n",
       "2                   0  2022-03-10  01-20-2021  200-303-6152    Mobile   \n",
       "3                   0  2022-03-10  05-23-2021  127-879-7425    Mobile   \n",
       "4                   0  2022-03-10  08-13-2021  942-645-2732    Mobile   \n",
       "...               ...         ...         ...           ...       ...   \n",
       "99902               0  2022-03-10  06-13-2021  146-344-1605    Tablet   \n",
       "99903               0  2022-03-10  02-20-2021  984-418-7929    Tablet   \n",
       "99904               1  2022-03-10  07-05-2021  245-491-4022  Computer   \n",
       "99905               0  2022-03-10  10-23-2021  554-502-8104    Mobile   \n",
       "99906               0  2022-03-10  05-09-2021  433-408-4245  Computer   \n",
       "\n",
       "         location                 os     ipAddress         browser  \n",
       "0          Kansas        Apple MacOS  9.200.232.57          Safari  \n",
       "1        Oklahoma        Apple MacOS  9.200.232.57          Safari  \n",
       "2          Nevada  Microsoft Windows  9.200.232.57  Microsoft Edge  \n",
       "3        Lousiana     Google Android  9.200.232.57   Google Chrome  \n",
       "4        Oklahoma              Linux  9.200.232.57         Firefox  \n",
       "...           ...                ...           ...             ...  \n",
       "99902    Missouri  Microsoft Windows  9.200.232.57  Microsoft Edge  \n",
       "99903  New Jersey     Google Android  9.200.232.57   Google Chrome  \n",
       "99904  California          Apple iOS  9.200.232.57          Safari  \n",
       "99905  Washington          Apple iOS  9.200.232.57          Safari  \n",
       "99906        Ohio     Google Android  9.200.232.57   Google Chrome  \n",
       "\n",
       "[99907 rows x 14 columns]"
      ]
     },
     "execution_count": 35,
     "metadata": {},
     "output_type": "execute_result"
    }
   ],
   "source": [
    "df"
   ]
  },
  {
   "cell_type": "code",
   "execution_count": 36,
   "metadata": {},
   "outputs": [
    {
     "data": {
      "image/png": "[encoded data removed]",
      "text/plain": [
       "<Figure size 864x576 with 1 Axes>"
      ]
     },
     "metadata": {},
     "output_type": "display_data"
    }
   ],
   "source": [
    "plt.figure(figsize = (12,8))\n",
    "sns.countplot(x = 'positive_review', hue = 'zone',data = df_states, palette=\"ch:.33\") \\\n",
    "    .set_title('Positive reviews by zone', fontdict = {'fontsize': 20, 'weight' :'bold'}) \n",
    "plt.legend(fontsize = 15)\n",
    "plt.xlabel('Browser', fontsize = 12)\n",
    "plt.ylabel('Count', fontsize = 12)\n",
    "plt.savefig(fig_path + '/PositiveReviewsByZone' + '.svg' , dpi = 800) \n",
    "plt.show()"
   ]
  },
  {
   "cell_type": "markdown",
   "metadata": {},
   "source": [
    "## Some regression stuff"
   ]
  },
  {
   "cell_type": "code",
   "execution_count": 37,
   "metadata": {},
   "outputs": [
    {
     "name": "stderr",
     "output_type": "stream",
     "text": [
      "/var/folders/p8/hcc3hbg92yvd4fclbgllz3380000gn/T/ipykernel_32702/1139295893.py:2: SettingWithCopyWarning: \n",
      "A value is trying to be set on a copy of a slice from a DataFrame.\n",
      "Try using .loc[row_indexer,col_indexer] = value instead\n",
      "\n",
      "See the caveats in the documentation: https://pandas.pydata.org/pandas-docs/stable/user_guide/indexing.html#returning-a-view-versus-a-copy\n",
      "  reg_df['positive_review'] = reg_df['positive_review'].astype(int)\n"
     ]
    }
   ],
   "source": [
    "reg_df = df.drop_duplicates(['cid'])\n",
    "reg_df['positive_review'] = reg_df['positive_review'].astype(int)\n",
    "reg_df_numerical = reg_df[['cid','amount_spent' ,'num_pos_reviews',\t'num_reviews']]\n",
    "reg_df_numerical = reg_df[['cid','amount_spent' ,'num_pos_reviews',\t'num_reviews']]\n",
    "\n"
   ]
  },
  {
   "cell_type": "code",
   "execution_count": 38,
   "metadata": {},
   "outputs": [],
   "source": [
    "def mahalanobis(x=None, data=None, cov=None):\n",
    "    x_mu = x - np.mean(data, axis = 0)\n",
    "    if not cov:\n",
    "        cov = np.cov(data.values.T)\n",
    "    inv_covmat = np.linalg.inv(cov)\n",
    "    left = np.dot(x_mu, inv_covmat)\n",
    "    mahal = np.dot(left, x_mu.T)\n",
    "    return mahal.diagonal()"
   ]
  },
  {
   "cell_type": "code",
   "execution_count": 39,
   "metadata": {},
   "outputs": [
    {
     "name": "stderr",
     "output_type": "stream",
     "text": [
      "/var/folders/p8/hcc3hbg92yvd4fclbgllz3380000gn/T/ipykernel_32702/1806988772.py:1: SettingWithCopyWarning: \n",
      "A value is trying to be set on a copy of a slice from a DataFrame.\n",
      "Try using .loc[row_indexer,col_indexer] = value instead\n",
      "\n",
      "See the caveats in the documentation: https://pandas.pydata.org/pandas-docs/stable/user_guide/indexing.html#returning-a-view-versus-a-copy\n",
      "  reg_df['mahalanobis'] = mahalanobis(x=reg_df[['amount_spent' ,'num_pos_reviews',\t'num_reviews']],\n",
      "/var/folders/p8/hcc3hbg92yvd4fclbgllz3380000gn/T/ipykernel_32702/1806988772.py:3: SettingWithCopyWarning: \n",
      "A value is trying to be set on a copy of a slice from a DataFrame.\n",
      "Try using .loc[row_indexer,col_indexer] = value instead\n",
      "\n",
      "See the caveats in the documentation: https://pandas.pydata.org/pandas-docs/stable/user_guide/indexing.html#returning-a-view-versus-a-copy\n",
      "  reg_df['p_val'] = 1 - chi2.cdf(reg_df['mahalanobis'], 2)\n"
     ]
    }
   ],
   "source": [
    "reg_df['mahalanobis'] = mahalanobis(x=reg_df[['amount_spent' ,'num_pos_reviews',\t'num_reviews']], \n",
    "                            data=reg_df[['amount_spent' ,'num_pos_reviews','num_reviews']])\n",
    "reg_df['p_val'] = 1 - chi2.cdf(reg_df['mahalanobis'], 2)"
   ]
  },
  {
   "cell_type": "code",
   "execution_count": 40,
   "metadata": {},
   "outputs": [
    {
     "data": {
      "text/html": [
       "<div>\n",
       "<style scoped>\n",
       "    .dataframe tbody tr th:only-of-type {\n",
       "        vertical-align: middle;\n",
       "    }\n",
       "\n",
       "    .dataframe tbody tr th {\n",
       "        vertical-align: top;\n",
       "    }\n",
       "\n",
       "    .dataframe thead th {\n",
       "        text-align: right;\n",
       "    }\n",
       "</style>\n",
       "<table border=\"1\" class=\"dataframe\">\n",
       "  <thead>\n",
       "    <tr style=\"text-align: right;\">\n",
       "      <th></th>\n",
       "      <th>cid</th>\n",
       "      <th>amount_spent</th>\n",
       "      <th>num_pos_reviews</th>\n",
       "      <th>num_reviews</th>\n",
       "      <th>id_review</th>\n",
       "      <th>positive_review</th>\n",
       "      <th>ts</th>\n",
       "      <th>logDate</th>\n",
       "      <th>phoneNumber</th>\n",
       "      <th>device</th>\n",
       "      <th>location</th>\n",
       "      <th>os</th>\n",
       "      <th>ipAddress</th>\n",
       "      <th>browser</th>\n",
       "      <th>mahalanobis</th>\n",
       "      <th>p_val</th>\n",
       "    </tr>\n",
       "  </thead>\n",
       "  <tbody>\n",
       "    <tr>\n",
       "      <th>0</th>\n",
       "      <td>12347</td>\n",
       "      <td>3012</td>\n",
       "      <td>44</td>\n",
       "      <td>131</td>\n",
       "      <td>938</td>\n",
       "      <td>0</td>\n",
       "      <td>2022-03-10</td>\n",
       "      <td>07-10-2021</td>\n",
       "      <td>773-490-0967</td>\n",
       "      <td>Mobile</td>\n",
       "      <td>Kansas</td>\n",
       "      <td>Apple MacOS</td>\n",
       "      <td>9.200.232.57</td>\n",
       "      <td>Safari</td>\n",
       "      <td>4.317703</td>\n",
       "      <td>0.115458</td>\n",
       "    </tr>\n",
       "    <tr>\n",
       "      <th>131</th>\n",
       "      <td>12386</td>\n",
       "      <td>228</td>\n",
       "      <td>32</td>\n",
       "      <td>93</td>\n",
       "      <td>861</td>\n",
       "      <td>0</td>\n",
       "      <td>2022-03-10</td>\n",
       "      <td>04-02-2021</td>\n",
       "      <td>564-045-7387</td>\n",
       "      <td>Tablet</td>\n",
       "      <td>Arkansas</td>\n",
       "      <td>Apple MacOS</td>\n",
       "      <td>9.200.232.57</td>\n",
       "      <td>Safari</td>\n",
       "      <td>3.093076</td>\n",
       "      <td>0.212984</td>\n",
       "    </tr>\n",
       "    <tr>\n",
       "      <th>224</th>\n",
       "      <td>12429</td>\n",
       "      <td>2934</td>\n",
       "      <td>43</td>\n",
       "      <td>114</td>\n",
       "      <td>999</td>\n",
       "      <td>0</td>\n",
       "      <td>2022-03-10</td>\n",
       "      <td>02-05-2021</td>\n",
       "      <td>741-501-1157</td>\n",
       "      <td>Computer</td>\n",
       "      <td>Oklahoma</td>\n",
       "      <td>Linux</td>\n",
       "      <td>9.200.232.57</td>\n",
       "      <td>Firefox</td>\n",
       "      <td>1.375745</td>\n",
       "      <td>0.502644</td>\n",
       "    </tr>\n",
       "    <tr>\n",
       "      <th>338</th>\n",
       "      <td>12472</td>\n",
       "      <td>4105</td>\n",
       "      <td>35</td>\n",
       "      <td>102</td>\n",
       "      <td>2105</td>\n",
       "      <td>1</td>\n",
       "      <td>2022-03-10</td>\n",
       "      <td>07-12-2021</td>\n",
       "      <td>118-357-0986</td>\n",
       "      <td>Computer</td>\n",
       "      <td>New York</td>\n",
       "      <td>Apple MacOS</td>\n",
       "      <td>9.200.232.57</td>\n",
       "      <td>Safari</td>\n",
       "      <td>0.763848</td>\n",
       "      <td>0.682547</td>\n",
       "    </tr>\n",
       "    <tr>\n",
       "      <th>527</th>\n",
       "      <td>12683</td>\n",
       "      <td>5807</td>\n",
       "      <td>32</td>\n",
       "      <td>113</td>\n",
       "      <td>277</td>\n",
       "      <td>0</td>\n",
       "      <td>2022-03-10</td>\n",
       "      <td>04-24-2021</td>\n",
       "      <td>112-413-6346</td>\n",
       "      <td>Mobile</td>\n",
       "      <td>Nevada</td>\n",
       "      <td>Google Android</td>\n",
       "      <td>9.200.232.57</td>\n",
       "      <td>Google Chrome</td>\n",
       "      <td>1.180385</td>\n",
       "      <td>0.554221</td>\n",
       "    </tr>\n",
       "    <tr>\n",
       "      <th>...</th>\n",
       "      <td>...</td>\n",
       "      <td>...</td>\n",
       "      <td>...</td>\n",
       "      <td>...</td>\n",
       "      <td>...</td>\n",
       "      <td>...</td>\n",
       "      <td>...</td>\n",
       "      <td>...</td>\n",
       "      <td>...</td>\n",
       "      <td>...</td>\n",
       "      <td>...</td>\n",
       "      <td>...</td>\n",
       "      <td>...</td>\n",
       "      <td>...</td>\n",
       "      <td>...</td>\n",
       "      <td>...</td>\n",
       "    </tr>\n",
       "    <tr>\n",
       "      <th>99208</th>\n",
       "      <td>18225</td>\n",
       "      <td>3893</td>\n",
       "      <td>47</td>\n",
       "      <td>120</td>\n",
       "      <td>864</td>\n",
       "      <td>1</td>\n",
       "      <td>2022-03-10</td>\n",
       "      <td>04-27-2021</td>\n",
       "      <td>183-290-2229</td>\n",
       "      <td>Computer</td>\n",
       "      <td>Nevada</td>\n",
       "      <td>Apple MacOS</td>\n",
       "      <td>9.200.232.57</td>\n",
       "      <td>Safari</td>\n",
       "      <td>3.163464</td>\n",
       "      <td>0.205619</td>\n",
       "    </tr>\n",
       "    <tr>\n",
       "      <th>99462</th>\n",
       "      <td>18230</td>\n",
       "      <td>2202</td>\n",
       "      <td>38</td>\n",
       "      <td>106</td>\n",
       "      <td>593</td>\n",
       "      <td>1</td>\n",
       "      <td>2022-03-10</td>\n",
       "      <td>08-11-2021</td>\n",
       "      <td>653-347-3312</td>\n",
       "      <td>Computer</td>\n",
       "      <td>New Hampshire</td>\n",
       "      <td>Apple MacOS</td>\n",
       "      <td>9.200.232.57</td>\n",
       "      <td>Safari</td>\n",
       "      <td>0.625573</td>\n",
       "      <td>0.731406</td>\n",
       "    </tr>\n",
       "    <tr>\n",
       "      <th>99568</th>\n",
       "      <td>18239</td>\n",
       "      <td>1087</td>\n",
       "      <td>31</td>\n",
       "      <td>110</td>\n",
       "      <td>26</td>\n",
       "      <td>1</td>\n",
       "      <td>2022-03-10</td>\n",
       "      <td>07-16-2021</td>\n",
       "      <td>581-776-4378</td>\n",
       "      <td>Mobile</td>\n",
       "      <td>Florida</td>\n",
       "      <td>Apple MacOS</td>\n",
       "      <td>9.200.232.57</td>\n",
       "      <td>Safari</td>\n",
       "      <td>1.067303</td>\n",
       "      <td>0.586460</td>\n",
       "    </tr>\n",
       "    <tr>\n",
       "      <th>99678</th>\n",
       "      <td>18259</td>\n",
       "      <td>2058</td>\n",
       "      <td>41</td>\n",
       "      <td>116</td>\n",
       "      <td>1271</td>\n",
       "      <td>0</td>\n",
       "      <td>2022-03-10</td>\n",
       "      <td>05-14-2021</td>\n",
       "      <td>299-530-3434</td>\n",
       "      <td>Computer</td>\n",
       "      <td>Nevada</td>\n",
       "      <td>Google Android</td>\n",
       "      <td>9.200.232.57</td>\n",
       "      <td>Google Chrome</td>\n",
       "      <td>0.669892</td>\n",
       "      <td>0.715377</td>\n",
       "    </tr>\n",
       "    <tr>\n",
       "      <th>99794</th>\n",
       "      <td>18269</td>\n",
       "      <td>94</td>\n",
       "      <td>37</td>\n",
       "      <td>113</td>\n",
       "      <td>528</td>\n",
       "      <td>0</td>\n",
       "      <td>2022-03-10</td>\n",
       "      <td>01-26-2021</td>\n",
       "      <td>263-554-0695</td>\n",
       "      <td>Tablet</td>\n",
       "      <td>New Jersey</td>\n",
       "      <td>Microsoft Windows</td>\n",
       "      <td>9.200.232.57</td>\n",
       "      <td>Microsoft Edge</td>\n",
       "      <td>0.150676</td>\n",
       "      <td>0.927430</td>\n",
       "    </tr>\n",
       "  </tbody>\n",
       "</table>\n",
       "<p>847 rows × 16 columns</p>\n",
       "</div>"
      ],
      "text/plain": [
       "         cid  amount_spent  num_pos_reviews  num_reviews id_review  \\\n",
       "0      12347          3012               44          131       938   \n",
       "131    12386           228               32           93       861   \n",
       "224    12429          2934               43          114       999   \n",
       "338    12472          4105               35          102      2105   \n",
       "527    12683          5807               32          113       277   \n",
       "...      ...           ...              ...          ...       ...   \n",
       "99208  18225          3893               47          120       864   \n",
       "99462  18230          2202               38          106       593   \n",
       "99568  18239          1087               31          110        26   \n",
       "99678  18259          2058               41          116      1271   \n",
       "99794  18269            94               37          113       528   \n",
       "\n",
       "       positive_review          ts     logDate   phoneNumber    device  \\\n",
       "0                    0  2022-03-10  07-10-2021  773-490-0967    Mobile   \n",
       "131                  0  2022-03-10  04-02-2021  564-045-7387    Tablet   \n",
       "224                  0  2022-03-10  02-05-2021  741-501-1157  Computer   \n",
       "338                  1  2022-03-10  07-12-2021  118-357-0986  Computer   \n",
       "527                  0  2022-03-10  04-24-2021  112-413-6346    Mobile   \n",
       "...                ...         ...         ...           ...       ...   \n",
       "99208                1  2022-03-10  04-27-2021  183-290-2229  Computer   \n",
       "99462                1  2022-03-10  08-11-2021  653-347-3312  Computer   \n",
       "99568                1  2022-03-10  07-16-2021  581-776-4378    Mobile   \n",
       "99678                0  2022-03-10  05-14-2021  299-530-3434  Computer   \n",
       "99794                0  2022-03-10  01-26-2021  263-554-0695    Tablet   \n",
       "\n",
       "            location                 os     ipAddress         browser  \\\n",
       "0             Kansas        Apple MacOS  9.200.232.57          Safari   \n",
       "131         Arkansas        Apple MacOS  9.200.232.57          Safari   \n",
       "224         Oklahoma              Linux  9.200.232.57         Firefox   \n",
       "338         New York        Apple MacOS  9.200.232.57          Safari   \n",
       "527           Nevada     Google Android  9.200.232.57   Google Chrome   \n",
       "...              ...                ...           ...             ...   \n",
       "99208         Nevada        Apple MacOS  9.200.232.57          Safari   \n",
       "99462  New Hampshire        Apple MacOS  9.200.232.57          Safari   \n",
       "99568        Florida        Apple MacOS  9.200.232.57          Safari   \n",
       "99678         Nevada     Google Android  9.200.232.57   Google Chrome   \n",
       "99794     New Jersey  Microsoft Windows  9.200.232.57  Microsoft Edge   \n",
       "\n",
       "       mahalanobis     p_val  \n",
       "0         4.317703  0.115458  \n",
       "131       3.093076  0.212984  \n",
       "224       1.375745  0.502644  \n",
       "338       0.763848  0.682547  \n",
       "527       1.180385  0.554221  \n",
       "...            ...       ...  \n",
       "99208     3.163464  0.205619  \n",
       "99462     0.625573  0.731406  \n",
       "99568     1.067303  0.586460  \n",
       "99678     0.669892  0.715377  \n",
       "99794     0.150676  0.927430  \n",
       "\n",
       "[847 rows x 16 columns]"
      ]
     },
     "execution_count": 40,
     "metadata": {},
     "output_type": "execute_result"
    }
   ],
   "source": [
    "reg_df.sort_values('p_val', ascending=False)\n",
    "reg_df[reg_df.p_val >= 0.05 ]"
   ]
  },
  {
   "cell_type": "code",
   "execution_count": 41,
   "metadata": {},
   "outputs": [
    {
     "data": {
      "text/plain": [
       "<Figure size 864x576 with 0 Axes>"
      ]
     },
     "metadata": {},
     "output_type": "display_data"
    },
    {
     "data": {
      "image/png": "[encoded data removed]",
      "text/plain": [
       "<Figure size 595.44x595.44 with 3 Axes>"
      ]
     },
     "metadata": {},
     "output_type": "display_data"
    }
   ],
   "source": [
    "sns.set_theme()\n",
    "plt.figure(figsize = (12,8)) \n",
    "def r2(x, y):\n",
    "    return stats.pearsonr(x, y)[0] ** 2\n",
    "\n",
    "join = sns.jointplot(y = 'amount_spent', x = 'num_reviews',data = reg_df[reg_df.p_val >= 0.05 ],\n",
    "             kind='reg', color=[210/255, 170/255, 155/255] , \n",
    "             joint_kws={'line_kws':{'color': [126/255, 66/255, 89/255]}},\n",
    "             height=8.27)  \n",
    "join.fig.subplots_adjust(top=.92)\n",
    "join.fig.suptitle('Relation betwen Number of Reviews and Amount Spent', fontsize = 20, weight ='bold' )\n",
    "join.set_axis_labels('Number of Reviews', 'Amount Spent' ,fontsize=12)\n",
    "plt.savefig(fig_path + '/JointPlot_Reviews_Amount' + '.svg' , dpi = 800) \n",
    "plt.show()"
   ]
  },
  {
   "cell_type": "code",
   "execution_count": 42,
   "metadata": {},
   "outputs": [
    {
     "data": {
      "text/plain": [
       "<Figure size 864x576 with 0 Axes>"
      ]
     },
     "metadata": {},
     "output_type": "display_data"
    },
    {
     "data": {
      "image/png": "[encoded data removed]",
      "text/plain": [
       "<Figure size 1080x360 with 3 Axes>"
      ]
     },
     "metadata": {},
     "output_type": "display_data"
    }
   ],
   "source": [
    "sns.set_theme()  \n",
    "plt.figure(figsize = (12,8))  \n",
    "rel = sns.lmplot(y = 'amount_spent', x = 'num_reviews', col = 'device' , \n",
    "            hue = 'device',data = reg_df[reg_df.p_val >= 0.05 ] , palette=\"ch:.35\")\n",
    "        # .set(tittle = 'Relation betwen Number of Reviews and Amount Spent', fontdict = {'fontsize': 20, 'weight' :'bold'}) \n",
    "rel.fig.subplots_adjust(top=.8)\n",
    "rel.fig.suptitle('Relation betwen Number of Reviews and Amount Spent', fontsize = 20, weight ='bold' )\n",
    "rel.set_axis_labels('Number of Reviews', 'Amount Spent', fontsize=12)\n",
    "plt.savefig(fig_path + '/lmplot_Reviews_Amount_byDevice' + '.svg' , dpi = 800) \n",
    "plt.show()\n"
   ]
  },
  {
   "cell_type": "code",
   "execution_count": 44,
   "metadata": {},
   "outputs": [
    {
     "data": {
      "text/plain": [
       "<Figure size 864x576 with 0 Axes>"
      ]
     },
     "metadata": {},
     "output_type": "display_data"
    },
    {
     "data": {
      "image/png": "[encoded data removed]",
      "text/plain": [
       "<Figure size 683.665x595.44 with 1 Axes>"
      ]
     },
     "metadata": {},
     "output_type": "display_data"
    }
   ],
   "source": [
    "sns.set()  \n",
    "plt.figure(figsize = (12,8))  \n",
    "sns.lmplot(y = 'positive_review', x = 'amount_spent',hue = 'device', logistic=True ,data = reg_df[reg_df.p_val >= 0.05 ] , \n",
    "        palette=\"ch:.35\" ,height=8.27)  \n",
    "plt.show()"
   ]
  },
  {
   "cell_type": "code",
   "execution_count": null,
   "metadata": {},
   "outputs": [],
   "source": []
  }
 ],
 "metadata": {
  "interpreter": {
   "hash": "1f3bc8004cb82a1d2e73cfde4a741311cc60056008d02659a77d343a1caeec15"
  },
  "kernelspec": {
   "display_name": "Python 3.9.1 ('testing-YmVA_p3X')",
   "language": "python",
   "name": "python3"
  },
  "language_info": {
   "codemirror_mode": {
    "name": "ipython",
    "version": 3
   },
   "file_extension": ".py",
   "mimetype": "text/x-python",
   "name": "python",
   "nbconvert_exporter": "python",
   "pygments_lexer": "ipython3",
   "version": "3.9.1"
  },
  "orig_nbformat": 4
 },
 "nbformat": 4,
 "nbformat_minor": 2
}
